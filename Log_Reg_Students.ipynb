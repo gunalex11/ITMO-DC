{
 "cells": [
  {
   "cell_type": "markdown",
   "metadata": {
    "id": "S2Zv-8wrSmbU"
   },
   "source": [
    "# Применение логистической регрессии для решения задачи классификации"
   ]
  },
  {
   "cell_type": "markdown",
   "metadata": {
    "id": "Fsaq3T7JS9Ox"
   },
   "source": [
    "# Описание набора данных"
   ]
  },
  {
   "cell_type": "markdown",
   "metadata": {
    "id": "ekwIM8kmTAx5"
   },
   "source": [
    "Данный набор содержит информацию о пассажирах корабля «Титаник», затонувшего в ночь на 15-е апреля 1912 года. Некоторое количество пассажиров спаслось, чему способствовало множество различных факторов, включая их пол, возраст, на какой палубе находилась их кабина, социальный статус, и т.д.\n",
    "\n",
    "Набор данных состоит из различных признаков, описывающих информацию о пассажирах. Каждая строка таблицы — отдельный пассажир, вся информация о нем содержится в его строке.\n",
    "\n",
    "Описание датасета:\n",
    "- **Survived** (целевой признак): выжил ли пассажир (0 = Нет, 1 = Да);\n",
    "- **Pclass**: класс каюты (1 = 1st, 2 = 2nd, 3 = 3rd);\n",
    "- **Sex**: пол (female или male)\n",
    "- **Age**: возраст в годах\n",
    "- **SibSp**: количество братьев, сестёр (в том числе сводных) и супругов на борту\n",
    "- **Parch**: количество детей и родителей на борту\n",
    "- **Ticket**: номер билета\n",
    "- **Fare**: стоимость проезда пассажира\n",
    "- **Cabin**: номер каюты\n",
    "- **Embarked**: порт посадки пассажира (C = Cherbourg, Q = Queenstown, S = Southampton).\n",
    "\n",
    "Необходимо решить задачу классификации и научиться предсказывать целовой признак **Survived** — выживет ли пассажир — по соответсвующим ему нецелевым признакам.\n"
   ]
  },
  {
   "cell_type": "markdown",
   "metadata": {
    "id": "SjI-Ub1GYbKX"
   },
   "source": [
    "# Подготовка и первичный анализ данных"
   ]
  },
  {
   "cell_type": "code",
   "execution_count": 387,
   "metadata": {
    "id": "a_MzT3cKTuR9"
   },
   "outputs": [],
   "source": [
    "import numpy as np\n",
    "import pandas as pd\n",
    "import matplotlib.pyplot as plt\n",
    "import seaborn as sns\n",
    "from sklearn.linear_model import LogisticRegression\n",
    "from sklearn.metrics import f1_score\n",
    "from sklearn.metrics import classification_report\n",
    "import math"
   ]
  },
  {
   "cell_type": "markdown",
   "metadata": {
    "id": "KY4ZYwUuUNwx"
   },
   "source": [
    "Установите количество пропущенных значений поля <code>age</code>:"
   ]
  },
  {
   "cell_type": "code",
   "execution_count": 388,
   "metadata": {
    "colab": {
     "base_uri": "https://localhost:8080/"
    },
    "id": "Ii5ITpGJUShn",
    "outputId": "6929ba07-0e49-413d-f8c7-35709d4cbc07"
   },
   "outputs": [
    {
     "data": {
      "text/plain": [
       "199"
      ]
     },
     "execution_count": 388,
     "metadata": {},
     "output_type": "execute_result"
    }
   ],
   "source": [
    "data = pd.read_csv('titanic_train.csv')\n",
    "S = 0\n",
    "arr = data['age']\n",
    "for elem in arr:\n",
    "    if not elem > 0:\n",
    "        S += 1\n",
    "S"
   ]
  },
  {
   "cell_type": "markdown",
   "metadata": {
    "id": "gOqnpfJkU6Ll"
   },
   "source": [
    "Определите долю выживших"
   ]
  },
  {
   "cell_type": "code",
   "execution_count": 389,
   "metadata": {
    "colab": {
     "base_uri": "https://localhost:8080/",
     "height": 423
    },
    "id": "dHdTN-odVAIb",
    "outputId": "c6ebdbbf-da4b-4b75-c58a-0eb7574fb098"
   },
   "outputs": [
    {
     "data": {
      "text/html": [
       "<div>\n",
       "<style scoped>\n",
       "    .dataframe tbody tr th:only-of-type {\n",
       "        vertical-align: middle;\n",
       "    }\n",
       "\n",
       "    .dataframe tbody tr th {\n",
       "        vertical-align: top;\n",
       "    }\n",
       "\n",
       "    .dataframe thead th {\n",
       "        text-align: right;\n",
       "    }\n",
       "</style>\n",
       "<table border=\"1\" class=\"dataframe\">\n",
       "  <thead>\n",
       "    <tr style=\"text-align: right;\">\n",
       "      <th></th>\n",
       "      <th>pclass</th>\n",
       "      <th>survived</th>\n",
       "      <th>name</th>\n",
       "      <th>sex</th>\n",
       "      <th>age</th>\n",
       "      <th>sibsp</th>\n",
       "      <th>parch</th>\n",
       "      <th>ticket</th>\n",
       "      <th>fare</th>\n",
       "      <th>cabin</th>\n",
       "      <th>embarked</th>\n",
       "      <th>home.dest</th>\n",
       "    </tr>\n",
       "  </thead>\n",
       "  <tbody>\n",
       "    <tr>\n",
       "      <th>0</th>\n",
       "      <td>3</td>\n",
       "      <td>1</td>\n",
       "      <td>Smyth, Miss. Julia</td>\n",
       "      <td>female</td>\n",
       "      <td>NaN</td>\n",
       "      <td>0</td>\n",
       "      <td>0</td>\n",
       "      <td>335432</td>\n",
       "      <td>7.7333</td>\n",
       "      <td>NaN</td>\n",
       "      <td>Q</td>\n",
       "      <td>NaN</td>\n",
       "    </tr>\n",
       "    <tr>\n",
       "      <th>1</th>\n",
       "      <td>3</td>\n",
       "      <td>1</td>\n",
       "      <td>Glynn, Miss. Mary Agatha</td>\n",
       "      <td>female</td>\n",
       "      <td>NaN</td>\n",
       "      <td>0</td>\n",
       "      <td>0</td>\n",
       "      <td>335677</td>\n",
       "      <td>7.7500</td>\n",
       "      <td>NaN</td>\n",
       "      <td>Q</td>\n",
       "      <td>Co Clare, Ireland Washington, DC</td>\n",
       "    </tr>\n",
       "    <tr>\n",
       "      <th>2</th>\n",
       "      <td>3</td>\n",
       "      <td>1</td>\n",
       "      <td>Whabee, Mrs. George Joseph (Shawneene Abi-Saab)</td>\n",
       "      <td>female</td>\n",
       "      <td>38.0</td>\n",
       "      <td>0</td>\n",
       "      <td>0</td>\n",
       "      <td>2688</td>\n",
       "      <td>7.2292</td>\n",
       "      <td>NaN</td>\n",
       "      <td>C</td>\n",
       "      <td>NaN</td>\n",
       "    </tr>\n",
       "    <tr>\n",
       "      <th>3</th>\n",
       "      <td>3</td>\n",
       "      <td>0</td>\n",
       "      <td>Vovk, Mr. Janko</td>\n",
       "      <td>male</td>\n",
       "      <td>22.0</td>\n",
       "      <td>0</td>\n",
       "      <td>0</td>\n",
       "      <td>349252</td>\n",
       "      <td>7.8958</td>\n",
       "      <td>NaN</td>\n",
       "      <td>S</td>\n",
       "      <td>NaN</td>\n",
       "    </tr>\n",
       "    <tr>\n",
       "      <th>4</th>\n",
       "      <td>3</td>\n",
       "      <td>0</td>\n",
       "      <td>de Pelsmaeker, Mr. Alfons</td>\n",
       "      <td>male</td>\n",
       "      <td>16.0</td>\n",
       "      <td>0</td>\n",
       "      <td>0</td>\n",
       "      <td>345778</td>\n",
       "      <td>9.5000</td>\n",
       "      <td>NaN</td>\n",
       "      <td>S</td>\n",
       "      <td>NaN</td>\n",
       "    </tr>\n",
       "    <tr>\n",
       "      <th>...</th>\n",
       "      <td>...</td>\n",
       "      <td>...</td>\n",
       "      <td>...</td>\n",
       "      <td>...</td>\n",
       "      <td>...</td>\n",
       "      <td>...</td>\n",
       "      <td>...</td>\n",
       "      <td>...</td>\n",
       "      <td>...</td>\n",
       "      <td>...</td>\n",
       "      <td>...</td>\n",
       "      <td>...</td>\n",
       "    </tr>\n",
       "    <tr>\n",
       "      <th>976</th>\n",
       "      <td>3</td>\n",
       "      <td>1</td>\n",
       "      <td>Howard, Miss. May Elizabeth</td>\n",
       "      <td>female</td>\n",
       "      <td>NaN</td>\n",
       "      <td>0</td>\n",
       "      <td>0</td>\n",
       "      <td>A. 2. 39186</td>\n",
       "      <td>8.0500</td>\n",
       "      <td>NaN</td>\n",
       "      <td>S</td>\n",
       "      <td>NaN</td>\n",
       "    </tr>\n",
       "    <tr>\n",
       "      <th>977</th>\n",
       "      <td>3</td>\n",
       "      <td>1</td>\n",
       "      <td>Dorking, Mr. Edward Arthur</td>\n",
       "      <td>male</td>\n",
       "      <td>19.0</td>\n",
       "      <td>0</td>\n",
       "      <td>0</td>\n",
       "      <td>A/5. 10482</td>\n",
       "      <td>8.0500</td>\n",
       "      <td>NaN</td>\n",
       "      <td>S</td>\n",
       "      <td>England Oglesby, IL</td>\n",
       "    </tr>\n",
       "    <tr>\n",
       "      <th>978</th>\n",
       "      <td>2</td>\n",
       "      <td>0</td>\n",
       "      <td>Gillespie, Mr. William Henry</td>\n",
       "      <td>male</td>\n",
       "      <td>34.0</td>\n",
       "      <td>0</td>\n",
       "      <td>0</td>\n",
       "      <td>12233</td>\n",
       "      <td>13.0000</td>\n",
       "      <td>NaN</td>\n",
       "      <td>S</td>\n",
       "      <td>Vancouver, BC</td>\n",
       "    </tr>\n",
       "    <tr>\n",
       "      <th>979</th>\n",
       "      <td>3</td>\n",
       "      <td>0</td>\n",
       "      <td>Barton, Mr. David John</td>\n",
       "      <td>male</td>\n",
       "      <td>22.0</td>\n",
       "      <td>0</td>\n",
       "      <td>0</td>\n",
       "      <td>324669</td>\n",
       "      <td>8.0500</td>\n",
       "      <td>NaN</td>\n",
       "      <td>S</td>\n",
       "      <td>England New York, NY</td>\n",
       "    </tr>\n",
       "    <tr>\n",
       "      <th>980</th>\n",
       "      <td>1</td>\n",
       "      <td>0</td>\n",
       "      <td>Allison, Miss. Helen Loraine</td>\n",
       "      <td>female</td>\n",
       "      <td>2.0</td>\n",
       "      <td>1</td>\n",
       "      <td>2</td>\n",
       "      <td>113781</td>\n",
       "      <td>151.5500</td>\n",
       "      <td>C22 C26</td>\n",
       "      <td>S</td>\n",
       "      <td>Montreal, PQ / Chesterville, ON</td>\n",
       "    </tr>\n",
       "  </tbody>\n",
       "</table>\n",
       "<p>981 rows × 12 columns</p>\n",
       "</div>"
      ],
      "text/plain": [
       "     pclass  survived                                             name  \\\n",
       "0         3         1                               Smyth, Miss. Julia   \n",
       "1         3         1                         Glynn, Miss. Mary Agatha   \n",
       "2         3         1  Whabee, Mrs. George Joseph (Shawneene Abi-Saab)   \n",
       "3         3         0                                  Vovk, Mr. Janko   \n",
       "4         3         0                        de Pelsmaeker, Mr. Alfons   \n",
       "..      ...       ...                                              ...   \n",
       "976       3         1                      Howard, Miss. May Elizabeth   \n",
       "977       3         1                       Dorking, Mr. Edward Arthur   \n",
       "978       2         0                     Gillespie, Mr. William Henry   \n",
       "979       3         0                           Barton, Mr. David John   \n",
       "980       1         0                     Allison, Miss. Helen Loraine   \n",
       "\n",
       "        sex   age  sibsp  parch       ticket      fare    cabin embarked  \\\n",
       "0    female   NaN      0      0       335432    7.7333      NaN        Q   \n",
       "1    female   NaN      0      0       335677    7.7500      NaN        Q   \n",
       "2    female  38.0      0      0         2688    7.2292      NaN        C   \n",
       "3      male  22.0      0      0       349252    7.8958      NaN        S   \n",
       "4      male  16.0      0      0       345778    9.5000      NaN        S   \n",
       "..      ...   ...    ...    ...          ...       ...      ...      ...   \n",
       "976  female   NaN      0      0  A. 2. 39186    8.0500      NaN        S   \n",
       "977    male  19.0      0      0   A/5. 10482    8.0500      NaN        S   \n",
       "978    male  34.0      0      0        12233   13.0000      NaN        S   \n",
       "979    male  22.0      0      0       324669    8.0500      NaN        S   \n",
       "980  female   2.0      1      2       113781  151.5500  C22 C26        S   \n",
       "\n",
       "                            home.dest  \n",
       "0                                 NaN  \n",
       "1    Co Clare, Ireland Washington, DC  \n",
       "2                                 NaN  \n",
       "3                                 NaN  \n",
       "4                                 NaN  \n",
       "..                                ...  \n",
       "976                               NaN  \n",
       "977               England Oglesby, IL  \n",
       "978                     Vancouver, BC  \n",
       "979              England New York, NY  \n",
       "980   Montreal, PQ / Chesterville, ON  \n",
       "\n",
       "[981 rows x 12 columns]"
      ]
     },
     "execution_count": 389,
     "metadata": {},
     "output_type": "execute_result"
    }
   ],
   "source": [
    "arr = data['survived']\n",
    "tot = 0\n",
    "s = 0\n",
    "for elem in arr:\n",
    "    tot += 1\n",
    "    if elem == 1:\n",
    "        s += 1\n",
    "s/tot\n",
    "data"
   ]
  },
  {
   "cell_type": "markdown",
   "metadata": {
    "id": "MJS0wozuVoWt"
   },
   "source": [
    "Определите долю пропущенных значений в рамках каждого признака и избавьтесь от тех признаков, где доля пропусков больше трети. Также удалите колонку <code>ticket</code>, вряд ли эта информация будет полезной."
   ]
  },
  {
   "cell_type": "code",
   "execution_count": 390,
   "metadata": {
    "id": "43ptqUREVz-t"
   },
   "outputs": [],
   "source": [
    "def isNaN(num):\n",
    "    return num != num\n",
    "\n",
    "data = pd.read_csv('titanic_train.csv').drop('ticket', axis=1)\n",
    "count = 0\n",
    "tot = len(data[data.columns[0]])\n",
    "cols = data.drop('survived', axis=1).columns\n",
    "for col in cols:\n",
    "    for elem in data[col]:\n",
    "        if isNaN(elem):\n",
    "            count += 1\n",
    "    if count/tot > 1/3:\n",
    "        data = data.drop(col,axis=1)\n",
    "    count = 0"
   ]
  },
  {
   "cell_type": "markdown",
   "metadata": {
    "id": "5Porb6vGmpke"
   },
   "source": [
    "Из описания набора данных видно, что колонки <code>sibsp</code> и <code>parch</code> по сути отвечают за размер семьи. Замените эти две колонки на колонку <code>fam_size</code>, значения которой будут вычисляться как сумма соответствующих значений в колонках <code>sibsp</code> и <code>parch</code>."
   ]
  },
  {
   "cell_type": "code",
   "execution_count": 392,
   "metadata": {
    "id": "knvpyHMrm4f-"
   },
   "outputs": [],
   "source": [
    "N = data.index[len(data.index)-1]+1\n",
    "#data.insert(len(data.columns),'fam_size',[data['sibsp'][i] + data['parch'][i] for i in range(N)])\n",
    "#data = data.drop(['sibsp','parch'],axis=1)"
   ]
  },
  {
   "cell_type": "markdown",
   "metadata": {
    "id": "X9Cmdl5fmyoi"
   },
   "source": [
    "Полученный датасет будем называть **исходным** (выброшенные на этом этапе признаки не нужно возвращать ни на одном из последующих этапов выполнения задания). Вычислите полученное число предикторов."
   ]
  },
  {
   "cell_type": "code",
   "execution_count": 309,
   "metadata": {
    "colab": {
     "base_uri": "https://localhost:8080/"
    },
    "id": "XdpdKkEBUT52",
    "outputId": "969b1913-2c00-4ce8-dcd8-a0a059d79bbd"
   },
   "outputs": [
    {
     "data": {
      "text/plain": [
       "0.8664627930682977"
      ]
     },
     "execution_count": 309,
     "metadata": {},
     "output_type": "execute_result"
    }
   ],
   "source": [
    "import numpy as np\n",
    "np.mean(data['fam_size'])"
   ]
  },
  {
   "cell_type": "markdown",
   "metadata": {
    "id": "wQOvPyj8Vx00"
   },
   "source": [
    "На основе имеющейся статистики оцените вероятность выжить если пассажир -- представитель определенной категории (указана в вашем индивидуальном задании)"
   ]
  },
  {
   "cell_type": "code",
   "execution_count": 310,
   "metadata": {
    "colab": {
     "base_uri": "https://localhost:8080/"
    },
    "id": "hFpZp4LaeS9Q",
    "outputId": "25bbd67c-0621-4544-c87a-dc9726b4d89d"
   },
   "outputs": [
    {
     "data": {
      "text/plain": [
       "0.9711538461538461"
      ]
     },
     "execution_count": 310,
     "metadata": {},
     "output_type": "execute_result"
    }
   ],
   "source": [
    "tot = 0\n",
    "s = 0\n",
    "for i in range(N):\n",
    "    if data['sex'][i] == 'female' and data['pclass'][i] == 1:\n",
    "        tot += 1\n",
    "        if data['survived'][i] == 1:\n",
    "            s += 1\n",
    "s/tot"
   ]
  },
  {
   "cell_type": "markdown",
   "metadata": {
    "id": "sXxprQtFhSy4"
   },
   "source": [
    "Постройте гистограммы выжиших и невыживших по возрастам."
   ]
  },
  {
   "cell_type": "code",
   "execution_count": 311,
   "metadata": {
    "colab": {
     "base_uri": "https://localhost:8080/",
     "height": 430
    },
    "id": "K3wHT2Uzr3nb",
    "outputId": "15c376c7-1c12-438c-b9b5-57f70aa01fcd"
   },
   "outputs": [
    {
     "data": {
      "image/png": "[encoded data removed]",
      "text/plain": [
       "<Figure size 640x480 with 1 Axes>"
      ]
     },
     "metadata": {},
     "output_type": "display_data"
    }
   ],
   "source": [
    "import matplotlib.pyplot as plt\n",
    "\n",
    "arr = []\n",
    "for i in range(N):\n",
    "    if data['survived'][i] == 1:\n",
    "        arr.append(data['age'][i])\n",
    "plt.hist(arr,bins=15)\n",
    "plt.show()"
   ]
  },
  {
   "cell_type": "markdown",
   "metadata": {
    "id": "u_bO7O9v0ovG"
   },
   "source": [
    "# Модель на основе числовых признаков"
   ]
  },
  {
   "cell_type": "markdown",
   "metadata": {
    "id": "VJPhFX8M38SF"
   },
   "source": [
    "## Удаление строк с пропусками"
   ]
  },
  {
   "cell_type": "markdown",
   "metadata": {
    "id": "kAO1Bd2Q0qZr"
   },
   "source": [
    "В качестве базовой модели имеет смысл построить модель с минимальными трудозатратами.\n",
    "\n",
    "Из исходного датасета удалите все категориальные признаки, а также строки, содержащие пропуски.\n",
    "\n",
    "При помощи <code>train_test_split()</code> разбейте набор данных на обучающую и тестовую выборки<b> с параметрами, указанными в вашем задании</b>. Используйте стратификацию по колонке <code>survived</code>.\n",
    "\n",
    "Обучите модель <code>LogisticRegression()</code> <b>с параметрами, указанными в вашем задании</b>, на тренировочных данных, оцените на тестовых.\n",
    "\n",
    "Вычислите <code>f1_score</code> модели на тестовых данных (рекомендуем использовать <a href=\"https://scikit-learn.org/stable/modules/generated/sklearn.metrics.f1_score.html\">соответствующую функцию</a> с параметрами по умолчанию.\n",
    "\n"
   ]
  },
  {
   "cell_type": "code",
   "execution_count": 312,
   "metadata": {
    "colab": {
     "base_uri": "https://localhost:8080/"
    },
    "id": "8JJ6qQT618Uz",
    "outputId": "03fcf977-da46-4e2e-c93a-92932c316e42"
   },
   "outputs": [
    {
     "data": {
      "text/plain": [
       "0.5178571428571429"
      ]
     },
     "execution_count": 312,
     "metadata": {},
     "output_type": "execute_result"
    }
   ],
   "source": [
    "from sklearn.model_selection import train_test_split\n",
    "\n",
    "dataN = data.drop(['name', 'sex', 'embarked'],axis=1)\n",
    "dataN = dataN.dropna()\n",
    "train, test = train_test_split(dataN, test_size=0.2, random_state=35, stratify = dataN['survived'])\n",
    "\n",
    "logreg = LogisticRegression(random_state=35, max_iter=1000)\n",
    "logreg.fit(train.drop('survived',axis=1), train['survived'])\n",
    "ans = logreg.predict(test.drop('survived',axis=1))\n",
    "f1_score(test['survived'], ans)"
   ]
  },
  {
   "cell_type": "markdown",
   "metadata": {
    "id": "UL6H4BxE3y-f"
   },
   "source": [
    "## Заполнение пропусков средним"
   ]
  },
  {
   "cell_type": "markdown",
   "metadata": {
    "id": "vD6NntW04OJF"
   },
   "source": [
    "Качество полученной модели оставляет желать лучшего. Имеет смысл попробовать заполнить пропуски. Из исходного набора данных удалите категориальные признаки, а пропуски заполните средним по столбцу. Далее аналогично: разделение, обучение, оценка.\n",
    "\n",
    "Вычислите <code>f1_score</code> модели на тестовых данных"
   ]
  },
  {
   "cell_type": "code",
   "execution_count": 331,
   "metadata": {
    "colab": {
     "base_uri": "https://localhost:8080/"
    },
    "id": "zMYFLiWZ4Gw-",
    "outputId": "3757e367-8d9f-4a60-96d1-79ba50b4c90c"
   },
   "outputs": [
    {
     "data": {
      "text/plain": [
       "0.4827586206896552"
      ]
     },
     "execution_count": 331,
     "metadata": {},
     "output_type": "execute_result"
    }
   ],
   "source": [
    "dataN = data.drop(['name', 'sex', 'embarked'],axis=1)\n",
    "for col in dataN.columns:\n",
    "    mean = np.mean(np.array(dataN[[col]].dropna()[col]))\n",
    "    new = np.array(dataN[col])\n",
    "    #print(new)\n",
    "    for i in range(len(new)):\n",
    "        if new[i] != new[i]:\n",
    "            new[i] = mean\n",
    "    dataN = dataN.drop(col, axis=1)\n",
    "    dataN.insert(0, col, new)\n",
    "\n",
    "train, test = train_test_split(dataN, test_size=0.2, random_state=35, stratify = dataN['survived'])\n",
    "\n",
    "logreg = LogisticRegression(random_state=35, max_iter=1000)\n",
    "logreg.fit(train.drop('survived',axis=1), train['survived'])\n",
    "ans = logreg.predict(test.drop('survived',axis=1))\n",
    "f1_score(test['survived'], ans)"
   ]
  },
  {
   "cell_type": "markdown",
   "metadata": {
    "id": "dxuJDvb1_p_e"
   },
   "source": [
    "## Заполнение пропусков на основе обращения"
   ]
  },
  {
   "cell_type": "markdown",
   "metadata": {
    "id": "9ew5okxzKdLh"
   },
   "source": [
    "\n",
    "Очевидно, что заполнение пропусков в колонке <code>age</code> средним — не самая разумная идея. Возможно, стоит выполнить эту процедуру как-то более интеллектуально, например, с оглядкой на обращение к человеку.\n",
    "\n",
    "Можно заметить, что исходный датасет в столбце <code>name</code> содержит информацию о социальном статусе пассажира, а именно присутсвуют обращения <code>Mr., Mrs., Dr.</code> и т.д. На основе этой информации можно попробовать сделать предположение о возрасте пассажира.\n",
    "\n",
    "Верните в рассмотрение колонку <code>name</code>. Создайте отдельную колонку <code>honorific</code> и поместите туда значения обращений.\n",
    "\n",
    "Вычислите число уникальных обращений."
   ]
  },
  {
   "cell_type": "code",
   "execution_count": 332,
   "metadata": {
    "colab": {
     "base_uri": "https://localhost:8080/"
    },
    "id": "fMbYRoa-DArO",
    "outputId": "dd870b00-8fc0-4603-f39f-da98d6faf56c"
   },
   "outputs": [
    {
     "name": "stdout",
     "output_type": "stream",
     "text": [
      "14\n"
     ]
    }
   ],
   "source": [
    "dataN = data.drop(['sex', 'embarked'], axis=1)\n",
    "hon = []\n",
    "for elem in dataN['name']:\n",
    "    words = elem.split()\n",
    "    for i in range(len(words)):\n",
    "        if words[i][-1] == '.' and words[i] != 'L.':\n",
    "            hon.append(words[i][:len(words[i])-1:])\n",
    "print(len(set(hon)))\n",
    "for i in range(len(hon)):\n",
    "    if hon[i] == 'Rev' or hon[i] == 'Col' or hon[i] == 'Dr' or hon[i] == 'Major' or hon[i] == 'Don' or hon[i] == 'Capt':\n",
    "        hon[i] = 'Mr'\n",
    "    if hon[i] == 'Dona' or hon[i] == 'Countess':\n",
    "        hon[i] = 'Mrs'\n",
    "    if hon[i] == 'Mlle' or hon[i] == 'Ms':\n",
    "        hon[i] = 'Miss'\n",
    "dataN.insert(0, 'honorific', hon)"
   ]
  },
  {
   "cell_type": "markdown",
   "metadata": {
    "id": "6HNMeGu9GJWN"
   },
   "source": [
    "Скорее всего имеет смысл сократить число обращений, добавив малочисленные группы к более многочисленным, так как принципиальной разницы между, например, <code>Don</code> и <code>Mr</code>, видимо, нет. Отметим, что <code>Master</code> — это прежнее обращение к ребенку, с этим обращением будем работать отдельно.\n",
    "\n",
    "\n",
    "\n",
    "\n",
    "Выполните следующие замены:\n",
    "\n",
    "<code>Mr</code> $\\leftarrow$ <code>['Rev', 'Col', 'Dr', 'Major', 'Don', 'Capt']</code>\n",
    "\n",
    "<code>Mrs</code> $\\leftarrow$ <code> ['Dona', 'Countess']</code>\n",
    "\n",
    "<code>Miss</code> $\\leftarrow$ <code> ['Mlle', 'Ms']</code>"
   ]
  },
  {
   "cell_type": "code",
   "execution_count": null,
   "metadata": {
    "id": "jiQBH3_8G0SF"
   },
   "outputs": [],
   "source": [
    "# < ENTER YOUR CODE HERE >"
   ]
  },
  {
   "cell_type": "markdown",
   "metadata": {
    "id": "qh-KpfttKxYD"
   },
   "source": [
    "Вычислите долю строк со значением <code>Master</code> относительно числа всех мужчин"
   ]
  },
  {
   "cell_type": "code",
   "execution_count": 333,
   "metadata": {
    "colab": {
     "base_uri": "https://localhost:8080/"
    },
    "id": "2g2fHrAGK_CA",
    "outputId": "11210ba8-4602-4631-c79a-1c57dd743e56"
   },
   "outputs": [
    {
     "data": {
      "text/plain": [
       "0.07232704402515723"
      ]
     },
     "execution_count": 333,
     "metadata": {},
     "output_type": "execute_result"
    }
   ],
   "source": [
    "men = 0\n",
    "chil = 0\n",
    "for i in range(len(dataN['age'])):\n",
    "    if data['sex'][i] == 'male':\n",
    "        men += 1\n",
    "    if dataN['honorific'][i] == 'Master':\n",
    "        chil += 1\n",
    "chil/men"
   ]
  },
  {
   "cell_type": "markdown",
   "metadata": {
    "id": "XD7hs0k7L77K"
   },
   "source": [
    "Вычислите средний возраст категории, указанной в вашем индивидуальном задании"
   ]
  },
  {
   "cell_type": "code",
   "execution_count": 334,
   "metadata": {
    "colab": {
     "base_uri": "https://localhost:8080/"
    },
    "id": "stKBPTCQMGlf",
    "outputId": "c10cd4df-f31a-4ac8-a19b-9c9bf6b69631"
   },
   "outputs": [
    {
     "data": {
      "text/plain": [
       "5.128205128205129"
      ]
     },
     "execution_count": 334,
     "metadata": {},
     "output_type": "execute_result"
    }
   ],
   "source": [
    "a = []\n",
    "for i in range(len(dataN['honorific'])):\n",
    "    if dataN['honorific'][i] == 'Master' and dataN['age'][i] == dataN['age'][i]:\n",
    "        a.append(dataN['age'][i])\n",
    "np.mean(a)"
   ]
  },
  {
   "cell_type": "markdown",
   "metadata": {
    "id": "cQ4Z0tKNLk_B"
   },
   "source": [
    "Заполните пропуски в колонке <code>age</code> средним, соответствующим среднему категории <code>honorific</code>.\n",
    "\n",
    "Избавьтесь от нечисловых признаков. Далее аналогично: разделение, обучение, оценка.\n",
    "\n",
    "Вычислите <code>f1_score</code> модели на тестовых данных"
   ]
  },
  {
   "cell_type": "code",
   "execution_count": 339,
   "metadata": {
    "id": "B5c_i_6HN3aA",
    "tags": []
   },
   "outputs": [
    {
     "data": {
      "text/plain": [
       "0.46551724137931033"
      ]
     },
     "execution_count": 339,
     "metadata": {},
     "output_type": "execute_result"
    }
   ],
   "source": [
    "#dataN = dataN.drop(['name', 'honorific'],axis=1)\n",
    "ages = dataN['age']\n",
    "for i in range(len(ages)):\n",
    "  if ages[i] != ages[i]:\n",
    "    ages_cat = []\n",
    "    for j in range(len(ages)):\n",
    "      if ages[j]==ages[j] and dataN['honorific'][j]==dataN['honorific'][i]:\n",
    "        ages_cat.append(ages[j])\n",
    "    mean = np.mean(ages_cat)\n",
    "    ages[i] = mean\n",
    "dataN = dataN.drop(['age'],axis=1)\n",
    "dataN.insert(0,'age',ages)\n",
    "\n",
    "train, test = train_test_split(dataN, test_size=0.2, random_state=35, stratify = dataN['survived'])\n",
    "\n",
    "logreg = LogisticRegression(random_state=35, max_iter=1000)\n",
    "logreg.fit(train.drop('survived',axis=1), train['survived'])\n",
    "ans = logreg.predict(test.drop('survived',axis=1))\n",
    "f1_score(test['survived'], ans)"
   ]
  },
  {
   "cell_type": "markdown",
   "metadata": {
    "id": "YGCBn1fiSbjG"
   },
   "source": [
    "# Модель с использование категориальных признаков"
   ]
  },
  {
   "cell_type": "markdown",
   "metadata": {
    "id": "BlILajPNTMgL"
   },
   "source": [
    "В исходном наборе данных заполните пропуски колонки <code>age</code> значениями на основе обращений (как в предыдущем пункте).\n",
    "\n",
    "Не используйте признаки <code>name</code> и <code>honorific</code>. Они свою функцию выполнили.\n",
    "\n",
    "Произведите <code>one-hot</code> кодировние нечисловых признаков, например, с помощью <code>pd.get_dummies(drop_first=True)</code>. Далее по знакомой схеме: разделение, обучение, оценка.\n",
    "\n",
    "Вычислите <code>f1_score</code> модели на тестовых данных"
   ]
  },
  {
   "cell_type": "code",
   "execution_count": 368,
   "metadata": {
    "id": "AiRm3GIdUsVt",
    "tags": []
   },
   "outputs": [
    {
     "data": {
      "text/plain": [
       "0.7101449275362319"
      ]
     },
     "execution_count": 369,
     "metadata": {},
     "output_type": "execute_result"
    }
   ],
   "source": [
    "dataN = data\n",
    "hon = []\n",
    "for elem in dataN['name']:\n",
    "    words = elem.split()\n",
    "    for i in range(len(words)):\n",
    "        if words[i][-1] == '.' and words[i] != 'L.':\n",
    "            hon.append(words[i][:len(words[i])-1:])\n",
    "\n",
    "for i in range(len(hon)):\n",
    "    if hon[i] == 'Rev' or hon[i] == 'Col' or hon[i] == 'Dr' or hon[i] == 'Major' or hon[i] == 'Don' or hon[i] == 'Capt':\n",
    "        hon[i] = 'Mr'\n",
    "    if hon[i] == 'Dona' or hon[i] == 'Countess':\n",
    "        hon[i] = 'Mrs'\n",
    "    if hon[i] == 'Mlle' or hon[i] == 'Ms':\n",
    "        hon[i] = 'Miss'\n",
    "#dataN.insert(0, 'honorific', hon)\n",
    "\n",
    "ages = dataN['age']\n",
    "for i in range(len(ages)):\n",
    "  if ages[i] != ages[i]:\n",
    "    ages_cat = []\n",
    "    for j in range(len(ages)):\n",
    "      if ages[j]==ages[j] and dataN['honorific'][j]==dataN['honorific'][i]:\n",
    "        ages_cat.append(ages[j])\n",
    "    mean = np.mean(ages_cat)\n",
    "    ages[i] = mean\n",
    "dataN = dataN.drop(['age'],axis=1)\n",
    "dataN.insert(0,'age',ages)\n",
    "\n",
    "dataN = dataN.drop(['name','honorific'],axis=1)\n",
    "\n",
    "dataN = pd.get_dummies(dataN, drop_first=True)\n",
    "\n",
    "train, test = train_test_split(dataN, test_size=0.2, random_state=35, stratify = dataN['survived'])\n",
    "\n",
    "logreg = LogisticRegression(random_state=35, max_iter=1000)\n",
    "logreg.fit(train.drop('survived',axis=1), train['survived'])\n",
    "ans = logreg.predict(test.drop('survived',axis=1))\n",
    "f1_score(test['survived'], ans)"
   ]
  },
  {
   "cell_type": "code",
   "execution_count": 417,
   "metadata": {
    "tags": []
   },
   "outputs": [
    {
     "data": {
      "text/plain": [
       "array([0, 0, 0, 0, 1, 0, 0, 0, 0, 1, 0, 1, 0, 0, 0, 1, 0, 0, 0, 1, 1, 0,\n",
       "       1, 0, 1, 1, 0, 0, 0, 1, 0, 0, 0, 0, 1, 1, 0, 1, 0, 0, 1, 0, 0, 0,\n",
       "       0, 0, 0, 1, 0, 0, 1, 0, 1, 0, 0, 1, 0, 1, 0, 1, 1, 0, 0, 0, 0, 0,\n",
       "       1, 0, 1, 0, 0, 1, 1, 1, 1, 1, 0, 1, 0, 0, 0, 0, 0, 1, 0, 1, 0, 1,\n",
       "       0, 0, 1, 1, 1, 0, 1, 0, 0, 0, 1, 0, 0, 0, 0, 0, 0, 0, 1, 0, 0, 1,\n",
       "       0, 0, 1, 0, 0, 0, 0, 1, 0, 0, 1, 0, 0, 0, 1, 1, 0, 0, 0, 1, 1, 1,\n",
       "       0, 1, 1, 1, 0, 0, 0, 1, 0, 0, 0, 1, 0, 0, 1, 0, 0, 1, 0, 0, 0, 0,\n",
       "       0, 0, 1, 0, 0, 1, 0, 0, 1, 0, 1, 1, 0, 0, 0, 0, 1, 1, 0, 0, 0, 1,\n",
       "       0, 1, 1, 0, 0, 1, 0, 0, 0, 1, 0, 0, 0, 0, 0, 0, 0, 0, 1, 1, 1, 0,\n",
       "       1, 1, 0, 0, 0, 0, 0, 0, 0, 0, 1, 0, 0, 0, 1, 1, 0, 0, 0, 1, 1, 1,\n",
       "       0, 0, 0, 1, 0, 0, 1, 0, 1, 0, 0, 1, 0, 0, 0, 1, 0, 0, 0, 0, 0, 1,\n",
       "       1, 1, 0, 0, 1, 0, 0, 0, 1, 0, 1, 0, 1, 0, 1, 0, 0, 0, 1, 0, 0, 1,\n",
       "       0, 1, 0, 0, 1, 0, 0, 0, 0, 1, 1, 0, 1, 0, 0, 1, 1, 1, 0, 0, 1, 0,\n",
       "       0, 0, 0, 1, 1, 1, 0, 1, 0, 1, 0, 0, 1, 1, 0, 0, 1, 0, 1, 0, 1, 1,\n",
       "       0, 0, 0, 0, 1, 1, 0, 0, 0, 1, 0, 1, 0, 0, 1, 0, 0, 1, 0, 0],\n",
       "      dtype=int64)"
      ]
     },
     "execution_count": 417,
     "metadata": {},
     "output_type": "execute_result"
    }
   ],
   "source": [
    "dataN = data\n",
    "test = pd.read_csv('titanic_reserved.csv')\n",
    "N = test.index[len(test.index)-1]+1\n",
    "test.insert(len(test.columns),'fam_size',[test['sibsp'][i] + test['parch'][i] for i in range(N)])\n",
    "test = test.drop(['sibsp','parch'],axis=1)\n",
    "\n",
    "hon1 = []\n",
    "for elem in dataN['name']:\n",
    "    words = elem.split()\n",
    "    for i in range(len(words)):\n",
    "        if words[i][-1] == '.' and words[i] != 'L.':\n",
    "            hon1.append(words[i][:len(words[i])-1:])\n",
    "hon2 = []\n",
    "for elem in test['name']:\n",
    "    words = elem.split()\n",
    "    for i in range(len(words)):\n",
    "        if words[i][-1] == '.' and words[i] != 'L.':\n",
    "            hon2.append(words[i][:len(words[i])-1:])\n",
    "#print(set(hon2))\n",
    "\n",
    "for i in range(len(hon1)):\n",
    "    if hon1[i] in ['Rev', 'Col', 'Dr', 'Major', 'Don', 'Capt']:\n",
    "        hon1[i] = 'Mr'\n",
    "    if hon1[i] in ['Dona', 'Countess']:\n",
    "        hon1[i] = 'Mrs'\n",
    "    if hon1[i] in ['Mlle', 'Ms']:\n",
    "        hon1[i] = 'Miss'\n",
    "#dataN.insert(0, 'honorific', hon1)\n",
    "for i in range(len(hon2)):\n",
    "    if hon2[i] == ['Dr', 'Major', 'Rev', 'Sir', 'Col', 'Jonkheer']:\n",
    "        hon2[i] = 'Mr'\n",
    "    if hon2[i] == ['Lady', 'Mme']:\n",
    "        hon2[i] = 'Mrs'\n",
    "    if hon2[i] in ['Mlle', 'Ms']:\n",
    "        hon2[i] = 'Miss'\n",
    "test.insert(0, 'honorific', hon2)\n",
    "\n",
    "\n",
    "ages = dataN['age']\n",
    "for i in range(len(ages)):\n",
    "  if ages[i] != ages[i]:\n",
    "    ages_cat = []\n",
    "    for j in range(len(ages)):\n",
    "      if ages[j]==ages[j] and dataN['honorific'][j]==dataN['honorific'][i]:\n",
    "        ages_cat.append(ages[j])\n",
    "    mean = np.mean(ages_cat)\n",
    "    ages[i] = mean\n",
    "dataN = dataN.drop(['age'],axis=1)\n",
    "dataN.insert(0,'age',ages)\n",
    "\n",
    "ages = test['age']\n",
    "for i in range(len(ages)):\n",
    "  if ages[i] != ages[i]:\n",
    "    ages_cat = []\n",
    "    for j in range(len(ages)):\n",
    "      if ages[j]==ages[j] and test['honorific'][j]==test['honorific'][i]:\n",
    "        ages_cat.append(ages[j])\n",
    "    mean = np.mean(ages_cat)\n",
    "    ages[i] = mean\n",
    "test = test.drop(['age'],axis=1)\n",
    "test.insert(0,'age',ages)\n",
    "\n",
    "dataN = dataN.drop(['name','honorific'],axis=1)\n",
    "test = test.drop(['name','honorific'],axis=1)\n",
    "\n",
    "test = test.drop(['ticket','home.dest','cabin'],axis=1)\n",
    "\n",
    "dataN = pd.get_dummies(dataN, drop_first=True)\n",
    "test = pd.get_dummies(test, drop_first=True)\n",
    "\n",
    "logreg = LogisticRegression(random_state=35, max_iter=1000)\n",
    "logreg.fit(dataN.drop('survived',axis=1), dataN['survived'])\n",
    "from IPython.display import clear_output\n",
    "clear_output()\n",
    "logreg.predict(test)"
   ]
  },
  {
   "cell_type": "code",
   "execution_count": null,
   "metadata": {},
   "outputs": [],
   "source": []
  }
 ],
 "metadata": {
  "colab": {
   "provenance": []
  },
  "kernelspec": {
   "display_name": "Python 3 (ipykernel)",
   "language": "python",
   "name": "python3"
  },
  "language_info": {
   "codemirror_mode": {
    "name": "ipython",
    "version": 3
   },
   "file_extension": ".py",
   "mimetype": "text/x-python",
   "name": "python",
   "nbconvert_exporter": "python",
   "pygments_lexer": "ipython3",
   "version": "3.11.0"
  }
 },
 "nbformat": 4,
 "nbformat_minor": 4
}
