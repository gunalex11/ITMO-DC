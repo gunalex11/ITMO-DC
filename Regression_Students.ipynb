{
 "cells": [
  {
   "cell_type": "markdown",
   "metadata": {
    "id": "9eFThHrPlCFg"
   },
   "source": [
    "Импорт библиотек"
   ]
  },
  {
   "cell_type": "code",
   "execution_count": 376,
   "metadata": {
    "id": "zqaeN2z8v3qR"
   },
   "outputs": [],
   "source": [
    "import pandas as pd\n",
    "import seaborn as sns\n",
    "import numpy as np\n",
    "from sklearn.model_selection import train_test_split \n",
    "from sklearn.decomposition import PCA\n",
    "from sklearn.linear_model import LinearRegression\n",
    "from sklearn.metrics import r2_score"
   ]
  },
  {
   "cell_type": "markdown",
   "metadata": {
    "id": "QTq1SRHEzF6J"
   },
   "source": [
    "Всего датасет содержит 159 записей. Мы предварительно зарезервировали часть датасета для задания по преодолению бейслайна (baseline). В настоящем задании подразумевается работа с датасетом, содержащим 119 записей."
   ]
  },
  {
   "cell_type": "markdown",
   "metadata": {
    "id": "bjyhxYK-eoem"
   },
   "source": [
    "# 0. Применение полиномиальной регрессии для предсказания непрерывного параметра"
   ]
  },
  {
   "cell_type": "markdown",
   "metadata": {
    "id": "VpkXz4mpeygZ"
   },
   "source": [
    "Представленный набор данных — это набор данных о семи различных типах рыб, продаваемых в некоторой рыбной лавке. Наша цель заключается в том, чтобы предсказать массу рыбы по каким-то косвенным признакам, известным о рыбе. Сами признаки, быть может, нужно синтезировать из тех, что известны."
   ]
  },
  {
   "cell_type": "markdown",
   "metadata": {
    "id": "K497OQtR0cbN"
   },
   "source": [
    "При помощи <code>train_test_split()</code> разбейте набор данных на обучающую и тестовую выборки с параметрами, указанными в вашем задании. Используйте стратификацию по колонке <code>Species</code>. Стратификация позволит сохранить доли представленных объектов (по представителям типов рыб) в тренировочной и тестовой выборках."
   ]
  },
  {
   "cell_type": "code",
   "execution_count": 377,
   "metadata": {
    "id": "KXoU2OWH0fn5"
   },
   "outputs": [],
   "source": [
    "df = pd.read_csv('fish_train.csv')\n",
    "[train,test] = train_test_split(df, test_size=0.2, random_state=35, stratify=df[['Species']])"
   ]
  },
  {
   "cell_type": "markdown",
   "metadata": {
    "id": "euRpYppY1xuR"
   },
   "source": [
    "Вычислите выборочное среднее колонки <code>Width</code> полученной тренировочной выборки."
   ]
  },
  {
   "cell_type": "code",
   "execution_count": 378,
   "metadata": {
    "id": "3q_2UVQ_2Avj"
   },
   "outputs": [
    {
     "data": {
      "text/plain": [
       "Width    4.561843\n",
       "dtype: float64"
      ]
     },
     "execution_count": 378,
     "metadata": {},
     "output_type": "execute_result"
    }
   ],
   "source": [
    "train[['Width']].mean()"
   ]
  },
  {
   "cell_type": "markdown",
   "metadata": {
    "id": "cAQId_950UCZ"
   },
   "source": [
    "# 1. Построение базовой модели\n",
    "\n",
    "Избавьтесь от категориальных признаков и обучите модель линейной регрессии (<code>LinearRegression()</code>) на тренировочном наборе данных. Выполните предсказания для тестового набора данных. Оцените модель при помощи метрики <code>r2_score()</code>."
   ]
  },
  {
   "cell_type": "code",
   "execution_count": 379,
   "metadata": {
    "id": "J9QyfzCx5FrA"
   },
   "outputs": [
    {
     "data": {
      "text/plain": [
       "0.8417293614893455"
      ]
     },
     "execution_count": 379,
     "metadata": {},
     "output_type": "execute_result"
    }
   ],
   "source": [
    "Train = train.drop(['Species'],axis=1).sort_index()\n",
    "Test = test.drop(['Species'],axis=1).sort_index()\n",
    "\n",
    "reg = LinearRegression().fit(Train.drop(['Weight'],axis=1),Train['Weight'])\n",
    "reg.score(Test.drop(['Weight'],axis=1),Test['Weight'])"
   ]
  },
  {
   "cell_type": "markdown",
   "metadata": {
    "id": "qPEFdTMe56b9"
   },
   "source": [
    "# 2. Добавление предварительной обработки признаков."
   ]
  },
  {
   "cell_type": "markdown",
   "metadata": {
    "id": "kKrNXjxTCS1D"
   },
   "source": [
    "## Использование PCA\n",
    "\n",
    "При помощи, например, <code>sns.heatmap()</code>, постройте матрицу корреляций признаков тренировочного набора данных и определите тройку наиболее коррелированных между собой признаков."
   ]
  },
  {
   "cell_type": "code",
   "execution_count": 380,
   "metadata": {
    "id": "HFtdKOdG62hS"
   },
   "outputs": [
    {
     "data": {
      "text/plain": [
       "<AxesSubplot: >"
      ]
     },
     "execution_count": 380,
     "metadata": {},
     "output_type": "execute_result"
    },
    {
     "data": {
      "image/png": "[encoded data removed]",
      "text/plain": [
       "<Figure size 640x480 with 2 Axes>"
      ]
     },
     "metadata": {},
     "output_type": "display_data"
    }
   ],
   "source": [
    "sns.heatmap(Train.drop(['Weight'],axis=1))"
   ]
  },
  {
   "cell_type": "markdown",
   "metadata": {
    "id": "Cx1RHggagRLr"
   },
   "source": [
    "Линейные модели достаточно плохо реагируют на коррелированные признаки, поэтому от таких признаков имеет смысл избавиться еще до начала обучения."
   ]
  },
  {
   "cell_type": "markdown",
   "metadata": {
    "id": "e6AquRcu7Gvb"
   },
   "source": [
    "Для уменьшения количества неинформативных измерений используйте метод главных компонент. \n",
    "\n",
    "1) Примените метод главных компонент (<code>PCA(n_components=3, svd_solver='full')</code>) для трех найденных наиболее коррелированных признаков. \n",
    "\n",
    "2) Вычислите долю объясненной дисперсии при использовании только первой главной компоненты. \n",
    "\n",
    "3) Замените три наиболее коррелированных признака на новый признак <code>Lengths</code>, значения которого совпадают со значениями счетов первой главной компоненты."
   ]
  },
  {
   "cell_type": "code",
   "execution_count": 381,
   "metadata": {
    "id": "VlPLHO2U8PiA"
   },
   "outputs": [
    {
     "name": "stdout",
     "output_type": "stream",
     "text": [
      "0.9960780178673452\n"
     ]
    }
   ],
   "source": [
    "pca = PCA(n_components=3, svd_solver='full').fit(Train.drop(['Weight','Height','Width'],axis=1))\n",
    "print(pca.explained_variance_ratio_[0])\n",
    "PC1 = pca.transform(Train.drop(['Weight','Height','Width'],axis=1))[:,0]\n",
    "TrainNew = Train.drop(['Length2','Length3'],axis=1)\n",
    "TrainNew['Length1'] = PC1"
   ]
  },
  {
   "cell_type": "markdown",
   "metadata": {
    "id": "kDrK2-Nd_ogF"
   },
   "source": [
    "Примените полученное преобразование для тех же признаков в тестовом наборе данных. Обратите внимание, что заново обучать преобразование `PCA` не нужно. Аналогично предыдущему этапу замените три рассмотренных признака на один."
   ]
  },
  {
   "cell_type": "code",
   "execution_count": 382,
   "metadata": {
    "id": "xEOAkMFf-T5m"
   },
   "outputs": [],
   "source": [
    "#pca = PCA(n_components=3, svd_solver='full').fit(Test.drop(['Weight','Height','Width'],axis=1))\n",
    "PC1 = pca.transform(Test.drop(['Weight','Height','Width'],axis=1))[:,0]\n",
    "TestNew = Test.drop(['Length2','Length3'],axis=1)\n",
    "TestNew['Length1'] = PC1"
   ]
  },
  {
   "cell_type": "markdown",
   "metadata": {
    "id": "NGiPC64DAmRb"
   },
   "source": [
    "Обучите базовую модель линейной регресси на полученных тренировочных данных, снова выбросив категориальные признаки. Выполните предсказания для тестовых данных, оцените при помощи <code>r2_score()</code>."
   ]
  },
  {
   "cell_type": "code",
   "execution_count": 383,
   "metadata": {
    "id": "EVu8wL6QA1Ci"
   },
   "outputs": [
    {
     "data": {
      "text/plain": [
       "0.8430426916929756"
      ]
     },
     "execution_count": 383,
     "metadata": {},
     "output_type": "execute_result"
    }
   ],
   "source": [
    "reg = LinearRegression().fit(TrainNew.drop(['Weight'],axis=1),TrainNew['Weight'])\n",
    "reg.score(TestNew.drop(['Weight'],axis=1),TestNew['Weight'])"
   ]
  },
  {
   "cell_type": "markdown",
   "metadata": {
    "id": "BFPWkxOnieem"
   },
   "source": [
    "Видно, что точность значительно не изменилась."
   ]
  },
  {
   "cell_type": "markdown",
   "metadata": {
    "id": "hJm3yq--BcT7"
   },
   "source": [
    "## Модификация признаков"
   ]
  },
  {
   "cell_type": "markdown",
   "metadata": {
    "id": "T11p0ltmEFwR"
   },
   "source": [
    "Постройте графики зависимостей признаков от целевой переменной, например, при помощи <code>sns.pairplot()</code>."
   ]
  },
  {
   "cell_type": "code",
   "execution_count": null,
   "metadata": {
    "id": "0rifKCoWEQYj"
   },
   "outputs": [],
   "source": [
    "# < ENTER YOUR CODE HERE > "
   ]
  },
  {
   "cell_type": "markdown",
   "metadata": {
    "id": "L-v73i1vhi_9"
   },
   "source": [
    "Видно, что масса, вообще говоря, нелинейно зависит от остальных параметров. Значит, чтобы линейная модель хорошо справлялась с предсказанием, признаки имеет смысл преобразовать так, чтобы зависимость стала более похожей на линейную. Но как придумать такую зависимость?"
   ]
  },
  {
   "cell_type": "markdown",
   "metadata": {
    "id": "sSIndS-yCP6P"
   },
   "source": [
    "Логично предположить, что масса рыбы должна каким-то гладким образом зависеть от остальных параметров, отвечающих так или иначе за размеры. Если впомнить, что масса — это произведение плотности на объем, то\n",
    "\n",
    "$$\n",
    "m = \\rho \\cdot V.\n",
    "$$\n",
    "\n",
    "Допустим, что средняя плотность у всех рыб одинаковая, и вспомним, что при гомотетии объем объекта зависит от линейных размеров как куб, тогда получим\n",
    "\n",
    "$$\n",
    "m\\sim V\\sim d^3\n",
    "$$\n",
    "\n",
    "Все признаки тренировочного и тестового наборов данных, отвечающие так или иначе за размеры (<code>Height, Width, Lengths</code>), возведите в третью степень, и проверьте, стала ли зависимость массы от этих признаков похожа на линейную."
   ]
  },
  {
   "cell_type": "code",
   "execution_count": 390,
   "metadata": {
    "id": "DOK0OyLVEmrh"
   },
   "outputs": [],
   "source": [
    "#TestNew['Height'] = (TestNew['Height'])**3\n",
    "#TestNew['Width'] = (TestNew['Width'])**3\n",
    "#TestNew['Length1'] = (TestNew['Length1'])**3\n",
    "#TrainNew['Height'] = (TrainNew['Height'])**3\n",
    "#TrainNew['Width'] = (TrainNew['Width'])**3\n",
    "#TrainNew['Length1'] = (TrainNew['Length1'])**3"
   ]
  },
  {
   "cell_type": "markdown",
   "metadata": {
    "id": "Jm-1XAOpE_Dc"
   },
   "source": [
    "Введите выборочное среднее колонки <code>Width</code> тренировочного набора данных после возведения в куб."
   ]
  },
  {
   "cell_type": "code",
   "execution_count": 391,
   "metadata": {
    "id": "5-2zYkgWGCFN"
   },
   "outputs": [
    {
     "data": {
      "text/plain": [
       "Width    131.27449\n",
       "dtype: float64"
      ]
     },
     "execution_count": 391,
     "metadata": {},
     "output_type": "execute_result"
    }
   ],
   "source": [
    "TrainNew[['Width']].mean()"
   ]
  },
  {
   "cell_type": "markdown",
   "metadata": {
    "id": "PCKM-CcQjfH5"
   },
   "source": [
    "Выберите изображения, соответствующие зависимости <code>Weight</code> от <code>Width</code> до преобразования и после."
   ]
  },
  {
   "cell_type": "markdown",
   "metadata": {
    "id": "NZtrdFamiTl1"
   },
   "source": [
    "Обучите базовую модель линейной регресси на полученных тренировочных данных, снова выбросив категориальные признаки. Выполните предсказания для тестовых данных, оцените при помощи `r2_score()`."
   ]
  },
  {
   "cell_type": "code",
   "execution_count": 392,
   "metadata": {
    "id": "ybKUGN-GGUoH"
   },
   "outputs": [
    {
     "data": {
      "text/plain": [
       "0.9287633986391889"
      ]
     },
     "execution_count": 392,
     "metadata": {},
     "output_type": "execute_result"
    }
   ],
   "source": [
    "reg = LinearRegression().fit(TrainNew.drop(['Weight'],axis=1),TrainNew['Weight'])\n",
    "reg.score(TestNew.drop(['Weight'],axis=1),TestNew['Weight'])"
   ]
  },
  {
   "cell_type": "markdown",
   "metadata": {
    "id": "WReH7dKZirOt"
   },
   "source": [
    "Обратите внимание на то, как такая нехитрая работа с признаками помогла разительно улучшить точность модели!"
   ]
  },
  {
   "cell_type": "markdown",
   "metadata": {
    "id": "MesFzgX1Sqgz"
   },
   "source": [
    "## Добавление категориальных признаков"
   ]
  },
  {
   "cell_type": "markdown",
   "metadata": {
    "id": "VThVRIkvSuV0"
   },
   "source": [
    "Произведите <code>one-hot</code> кодировние категориального признака `Species`, например, с помощью <code>pd.get_dummies()</code>.\n",
    "\n",
    "Обучите модель линейной регресси на полученных тренировочных данных. Выполните предсказания для тестовых данных, оцените модель при помощи <code>r2_score()</code>.\n",
    "\n",
    "<b>Примечание</b>: Мы специально использовали стратифицированное разделение, чтобы все значения категориального признака <code>Species</code> присутствовали во всех наборах данных. Но такое возможно не всегда. Про то, как с этим бороться можно почитать, [например, здесь](https://predictivehacks.com/?all-tips=how-to-deal-with-get_dummies-in-train-and-test-dataset)."
   ]
  },
  {
   "cell_type": "code",
   "execution_count": 405,
   "metadata": {
    "id": "AcJDFGFLSpzT"
   },
   "outputs": [
    {
     "data": {
      "text/plain": [
       "0.9333388970520813"
      ]
     },
     "execution_count": 405,
     "metadata": {},
     "output_type": "execute_result"
    }
   ],
   "source": [
    "df = pd.read_csv('fish_train.csv')\n",
    "[train,test] = train_test_split(df, test_size=0.2, random_state=35, stratify=df[['Species']])\n",
    "\n",
    "Train = train.sort_index()\n",
    "Test = test.sort_index()\n",
    "\n",
    "pca = PCA(n_components=3, svd_solver='full').fit(Train.drop(['Species','Weight','Height','Width'],axis=1))\n",
    "PC1 = pca.transform(Train.drop(['Species','Weight','Height','Width'],axis=1))[:,0]\n",
    "TrainNew = Train.drop(['Length2','Length3'],axis=1)\n",
    "TrainNew['Length1'] = PC1\n",
    "PC1 = pca.transform(Test.drop(['Species','Weight','Height','Width'],axis=1))[:,0]\n",
    "TestNew = Test.drop(['Length2','Length3'],axis=1)\n",
    "TestNew['Length1'] = PC1\n",
    "\n",
    "TrainNew = pd.get_dummies(TrainNew, columns=['Species'])\n",
    "TestNew = pd.get_dummies(TestNew, columns=['Species'])\n",
    "\n",
    "TestNew['Height'] = (TestNew['Height'])**3\n",
    "TestNew['Width'] = (TestNew['Width'])**3\n",
    "TestNew['Length1'] = (TestNew['Length1'])**3\n",
    "TrainNew['Height'] = (TrainNew['Height'])**3\n",
    "TrainNew['Width'] = (TrainNew['Width'])**3\n",
    "TrainNew['Length1'] = (TrainNew['Length1'])**3\n",
    "\n",
    "reg = LinearRegression().fit(TrainNew.drop(['Weight'],axis=1),TrainNew['Weight'])\n",
    "reg.score(TestNew.drop(['Weight'],axis=1),TestNew['Weight'])"
   ]
  },
  {
   "cell_type": "markdown",
   "metadata": {
    "id": "bBDsQEGvjMV2"
   },
   "source": [
    "И снова точность возрасла."
   ]
  },
  {
   "cell_type": "markdown",
   "metadata": {
    "id": "vciWw1gajo5H"
   },
   "source": [
    "Как можно увидеть, после `one-hot` кодирования признаки стали коррелированы. От этого можно избавиться, например, при помощи параметра `drop_first=True`. Заново обучите модель после исправления этого недочета. Выполните предсказания для тестовых данных, оцените модель при помощи <code>r2_score()</code>."
   ]
  },
  {
   "cell_type": "code",
   "execution_count": 517,
   "metadata": {
    "id": "zV6u-Ha1kH3p"
   },
   "outputs": [
    {
     "data": {
      "text/plain": [
       "0.9564813309573724"
      ]
     },
     "execution_count": 517,
     "metadata": {},
     "output_type": "execute_result"
    }
   ],
   "source": [
    "df = pd.read_csv('fish_train.csv')\n",
    "[train,test] = train_test_split(df, test_size=0.2, random_state=35, stratify=df[['Species']])\n",
    "\n",
    "Train = train.sort_index()\n",
    "Test = test.sort_index()\n",
    "\n",
    "pca = PCA(n_components=3, svd_solver='full').fit(Train.drop(['Species','Weight','Height','Width'],axis=1))\n",
    "PC1 = pca.transform(Train.drop(['Species','Weight','Height','Width'],axis=1))[:,0]\n",
    "TrainNew = Train.drop(['Length2','Length3'],axis=1)\n",
    "TrainNew['Length1'] = PC1\n",
    "PC1 = pca.transform(Test.drop(['Species','Weight','Height','Width'],axis=1))[:,0]\n",
    "TestNew = Test.drop(['Length2','Length3'],axis=1)\n",
    "TestNew['Length1'] = PC1\n",
    "\n",
    "TrainNew = pd.get_dummies(TrainNew, columns=['Species'], drop_first=True)\n",
    "TestNew = pd.get_dummies(TestNew, columns=['Species'], drop_first=True)\n",
    "\n",
    "TrainNew.insert(2, \"HW\", TrainNew['Height']*TrainNew['Width'], True)\n",
    "TestNew.insert(2, \"HW\", TestNew['Height']*TestNew['Width'], True)\n",
    "\n",
    "TrainNew.insert(2, \"Height2\", TrainNew['Height']**2, True)\n",
    "TrainNew.insert(2, \"Height3\", TrainNew['Height']**3, True)\n",
    "TrainNew.insert(2, \"Width2\", TrainNew['Width']**2, True)\n",
    "TrainNew.insert(2, \"Width3\", TrainNew['Width']**3, True)\n",
    "TrainNew.insert(2, \"Length2\", TrainNew['Length1']**2, True)\n",
    "TrainNew.insert(2, \"Length3\", TrainNew['Length1']**3, True)\n",
    "TestNew.insert(2, \"Height2\", TestNew['Height']**2, True)\n",
    "TestNew.insert(2, \"Height3\", TestNew['Height']**3, True)\n",
    "TestNew.insert(2, \"Width2\", TestNew['Width']**2, True)\n",
    "TestNew.insert(2, \"Width3\", TestNew['Width']**3, True)\n",
    "TestNew.insert(2, \"Length2\", TestNew['Length1']**2, True)\n",
    "TestNew.insert(2, \"Length3\", TestNew['Length1']**3, True)\n",
    "\n",
    "TestNew['Height'] = (TestNew['Height'])**3\n",
    "TestNew['Width'] = (TestNew['Width'])**3\n",
    "TestNew['Length1'] = (TestNew['Length1'])**3\n",
    "TrainNew['Height'] = (TrainNew['Height'])**3\n",
    "TrainNew['Width'] = (TrainNew['Width'])**3\n",
    "TrainNew['Length1'] = (TrainNew['Length1'])**3\n",
    "\n",
    "TrainNew['HW'] = (TrainNew['HW'])**(3/2)\n",
    "TestNew['HW'] = (TestNew['HW'])**(3/2)\n",
    "\n",
    "reg = LinearRegression().fit(TrainNew.drop(['Weight'],axis=1),TrainNew['Weight'])\n",
    "reg.score(TestNew.drop(['Weight'],axis=1),TestNew['Weight'])"
   ]
  },
  {
   "cell_type": "markdown",
   "metadata": {
    "id": "ABS2Tw6tkSW5"
   },
   "source": [
    "\n",
    "На таком сравнительно небольшом наборе данных, впрочем, разницы мы не видим."
   ]
  },
  {
   "cell_type": "code",
   "execution_count": 519,
   "metadata": {},
   "outputs": [
    {
     "data": {
      "text/plain": [
       "array([ 103.66675721,  125.08058581,   81.88538238,   96.35798545,\n",
       "         55.38843889,  183.55559193,   47.98614041,  477.11050546,\n",
       "        398.0094179 ,   84.31846169, 1889.77638903,  187.27980733,\n",
       "        644.84739784, 1071.09976603,   50.15260123,  648.61357854,\n",
       "        129.78255404,  805.37276127, 1480.21213118,   92.56844244,\n",
       "        621.84085421,  178.65616387,   71.3534985 ,  172.04638055,\n",
       "        273.42092556,  603.45674567,  361.48062785,   17.7811353 ,\n",
       "         -3.33269548,   26.14624185,  980.6518417 ,  486.34684382,\n",
       "        565.19346346,  153.81362647,   29.51593374,   66.96012492,\n",
       "        132.74778118,  926.99401256,  754.95281984,  141.4913118 ])"
      ]
     },
     "execution_count": 519,
     "metadata": {},
     "output_type": "execute_result"
    }
   ],
   "source": [
    "Train = pd.read_csv('fish_train.csv')\n",
    "Test = pd.read_csv('fish_reserved.csv')\n",
    "\n",
    "pca = PCA(n_components=3, svd_solver='full').fit(Train.drop(['Species','Weight','Height','Width'],axis=1))\n",
    "PC1 = pca.transform(Train.drop(['Species','Weight','Height','Width'],axis=1))[:,0]\n",
    "PC2 = pca.transform(Train.drop(['Species','Weight','Height','Width'],axis=1))[:,1]\n",
    "TrainNew = Train.drop(['Length3'],axis=1)\n",
    "TrainNew['Length1'] = PC1\n",
    "TrainNew['Length2'] = PC2\n",
    "\n",
    "PC1 = pca.transform(Test.drop(['Species','Height','Width'],axis=1))[:,0]\n",
    "PC2 = pca.transform(Test.drop(['Species','Height','Width'],axis=1))[:,1]\n",
    "TestNew = Test.drop(['Length3'],axis=1)\n",
    "TestNew['Length1'] = PC1\n",
    "TestNew['Length2'] = PC2\n",
    "\n",
    "TrainNew.insert(2, \"HW\", TrainNew['Height']*TrainNew['Width'], True)\n",
    "TestNew.insert(1, \"HW\", TestNew['Height']*TestNew['Width'], True)\n",
    "\n",
    "TrainNew.insert(2, \"Height2\", TrainNew['Height']**2, True)\n",
    "TrainNew.insert(2, \"Height3\", TrainNew['Height']**3, True)\n",
    "TrainNew.insert(2, \"Width2\", TrainNew['Width']**2, True)\n",
    "TrainNew.insert(2, \"Width3\", TrainNew['Width']**3, True)\n",
    "TrainNew.insert(2, \"Length2\", TrainNew['Length1']**2, True)\n",
    "TrainNew.insert(2, \"Length3\", TrainNew['Length1']**3, True)\n",
    "TestNew.insert(1, \"Height2\", TestNew['Height']**2, True)\n",
    "TestNew.insert(1, \"Height3\", TestNew['Height']**3, True)\n",
    "TestNew.insert(1, \"Width2\", TestNew['Width']**2, True)\n",
    "TestNew.insert(1, \"Width3\", TestNew['Width']**3, True)\n",
    "TestNew.insert(1, \"Length2\", TestNew['Length1']**2, True)\n",
    "TestNew.insert(1, \"Length3\", TestNew['Length1']**3, True)\n",
    "\n",
    "#TrainNew['Height'] = (TrainNew['Height'])**3\n",
    "#TrainNew['Width'] = (TrainNew['Width'])**3\n",
    "#TrainNew['Length1'] = (TrainNew['Length1'])**3\n",
    "#TestNew['Height'] = (TestNew['Height'])**3\n",
    "#TestNew['Width'] = (TestNew['Width'])**3\n",
    "#TestNew['Length1'] = (TestNew['Length1'])**3\n",
    "\n",
    "TrainNew = pd.get_dummies(TrainNew, columns=['Species'], drop_first=True)\n",
    "TestNew = pd.get_dummies(TestNew, columns=['Species'], drop_first=True)\n",
    "\n",
    "reg = LinearRegression().fit(TrainNew.drop(['Weight'],axis=1),TrainNew['Weight'])\n",
    "reg.predict(TestNew)"
   ]
  },
  {
   "cell_type": "code",
   "execution_count": null,
   "metadata": {},
   "outputs": [],
   "source": []
  }
 ],
 "metadata": {
  "colab": {
   "provenance": []
  },
  "kernelspec": {
   "display_name": "Python 3 (ipykernel)",
   "language": "python",
   "name": "python3"
  },
  "language_info": {
   "codemirror_mode": {
    "name": "ipython",
    "version": 3
   },
   "file_extension": ".py",
   "mimetype": "text/x-python",
   "name": "python",
   "nbconvert_exporter": "python",
   "pygments_lexer": "ipython3",
   "version": "3.11.0"
  }
 },
 "nbformat": 4,
 "nbformat_minor": 4
}
